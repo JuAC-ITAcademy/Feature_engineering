{
 "cells": [
  {
   "cell_type": "markdown",
   "id": "accessible-barbados",
   "metadata": {},
   "source": [
    "# Tasca Feature Engineering\n",
    "\n",
    "Aprèn a gestionar paràmetres amb Python.\n",
    "\n"
   ]
  },
  {
   "cell_type": "code",
   "execution_count": 1,
   "id": "abandoned-premium",
   "metadata": {},
   "outputs": [],
   "source": [
    "import numpy as np\n",
    "import pandas as pd\n",
    "pd.set_option('display.max_columns',50)\n",
    "\n",
    "%matplotlib inline\n",
    "import matplotlib.pyplot as plt\n",
    "import seaborn as sns\n",
    "\n",
    "from sklearn.preprocessing import StandardScaler, OneHotEncoder\n",
    "from sklearn.pipeline import Pipeline\n",
    "from sklearn.compose import ColumnTransformer"
   ]
  },
  {
   "cell_type": "markdown",
   "id": "connected-phoenix",
   "metadata": {},
   "source": [
    "## Nivell 1\n",
    "- Exercici 1\n",
    "\n",
    "Agafa un conjunt de dades de tema esportiu que t'agradi i normalitza els atributs categòrics en dummy. Normalitza els atributs numèrics amb StandardScaler.\n",
    "\n",
    "\n"
   ]
  },
  {
   "cell_type": "code",
   "execution_count": 2,
   "id": "collectible-acceptance",
   "metadata": {},
   "outputs": [],
   "source": [
    "players=pd.read_csv('./datasets/mlbbat10.csv')"
   ]
  },
  {
   "cell_type": "code",
   "execution_count": 3,
   "id": "improved-chart",
   "metadata": {},
   "outputs": [
    {
     "name": "stdout",
     "output_type": "stream",
     "text": [
      "<class 'pandas.core.frame.DataFrame'>\n",
      "RangeIndex: 1199 entries, 0 to 1198\n",
      "Data columns (total 19 columns):\n",
      " #   Column           Non-Null Count  Dtype  \n",
      "---  ------           --------------  -----  \n",
      " 0   name             1199 non-null   object \n",
      " 1   team             1199 non-null   object \n",
      " 2   position         1199 non-null   object \n",
      " 3   game             1199 non-null   int64  \n",
      " 4   at_bat           1199 non-null   int64  \n",
      " 5   run              1199 non-null   int64  \n",
      " 6   hit              1199 non-null   int64  \n",
      " 7   double           1199 non-null   int64  \n",
      " 8   triple           1199 non-null   int64  \n",
      " 9   home_run         1199 non-null   int64  \n",
      " 10  rbi              1199 non-null   int64  \n",
      " 11  total_base       1199 non-null   int64  \n",
      " 12  walk             1199 non-null   int64  \n",
      " 13  strike_out       1199 non-null   int64  \n",
      " 14  stolen_base      1199 non-null   int64  \n",
      " 15  caught_stealing  1199 non-null   int64  \n",
      " 16  obp              1199 non-null   float64\n",
      " 17  slg              1199 non-null   float64\n",
      " 18  bat_avg          1199 non-null   float64\n",
      "dtypes: float64(3), int64(13), object(3)\n",
      "memory usage: 178.1+ KB\n"
     ]
    }
   ],
   "source": [
    "players.info()"
   ]
  },
  {
   "cell_type": "markdown",
   "id": "complimentary-indianapolis",
   "metadata": {},
   "source": [
    "Para este ejercicio voy a utilizar la clase ColumnTransformer de Scikit Learn. Dentro de la clase especificaré diferentres transformers para las variables numéricas y categóricas:\n",
    "\n",
    "- Numéricas: StandardScaler que transforma la distribución de las variables a una variable con media cero y desviación estándard 1.\n",
    "\n",
    "- Categóricas: Transformación One Hot encoding, eliminando la primera variable, para las variables equipo y posición. El nombre del jugador no lo modificaré.\n"
   ]
  },
  {
   "cell_type": "code",
   "execution_count": 4,
   "id": "progressive-walter",
   "metadata": {},
   "outputs": [],
   "source": [
    "# Defino las columnas por tipos\n",
    "numericas=players.select_dtypes(exclude='object').columns\n",
    "categoricas=['team','position']"
   ]
  },
  {
   "cell_type": "code",
   "execution_count": 5,
   "id": "exotic-directive",
   "metadata": {},
   "outputs": [],
   "source": [
    "# Instanciar las funciones de transformación\n",
    "\n",
    "# Estandarización\n",
    "estandarizador=StandardScaler()\n",
    "\n",
    "# One hot encoding\n",
    "Dummies=OneHotEncoder(drop='first')"
   ]
  },
  {
   "cell_type": "code",
   "execution_count": 6,
   "id": "competent-christmas",
   "metadata": {},
   "outputs": [],
   "source": [
    "# Genero la transformacion\n",
    "operacion=ColumnTransformer(transformers=[('Estandarizar',estandarizador,numericas),\n",
    "                                          ('One_Hot_Enc',Dummies,categoricas)],\n",
    "                            remainder='passthrough',) # Incluye name en el array transformado."
   ]
  },
  {
   "cell_type": "code",
   "execution_count": 7,
   "id": "funky-status",
   "metadata": {},
   "outputs": [],
   "source": [
    "# Aplico las transformaciones y las guardo en una variable / data_tr\n",
    "players_tr_l=operacion.fit_transform(X=players,y=None)"
   ]
  },
  {
   "cell_type": "markdown",
   "id": "infectious-australia",
   "metadata": {},
   "source": [
    "El dataset **players_tr** es un array de numpy, con lo que ha perdido la información del nombre de las variables. Para recuperar el nombre de las variables puedo usar la propiedad _get_feature_names()_ de la transformación OneHotEncoder()."
   ]
  },
  {
   "cell_type": "code",
   "execution_count": 8,
   "id": "systematic-fabric",
   "metadata": {},
   "outputs": [
    {
     "data": {
      "text/plain": [
       "array(['x0_ATL', 'x0_BAL', 'x0_BOS', 'x0_CHC', 'x0_CIN', 'x0_CLE',\n",
       "       'x0_COL', 'x0_CWS', 'x0_DET', 'x0_FLA', 'x0_HOU', 'x0_KC',\n",
       "       'x0_LAA', 'x0_LAD', 'x0_MIL', 'x0_MIN', 'x0_NYM', 'x0_NYY',\n",
       "       'x0_OAK', 'x0_PHI', 'x0_PIT', 'x0_SD', 'x0_SEA', 'x0_SF', 'x0_STL',\n",
       "       'x0_TB', 'x0_TEX', 'x0_TOR', 'x0_WSH', 'x1_1B', 'x1_2B', 'x1_3B',\n",
       "       'x1_C', 'x1_DH', 'x1_OF', 'x1_P', 'x1_SS'], dtype=object)"
      ]
     },
     "execution_count": 8,
     "metadata": {},
     "output_type": "execute_result"
    }
   ],
   "source": [
    "cat_features=operacion.named_transformers_['One_Hot_Enc'].get_feature_names()\n",
    "cat_features"
   ]
  },
  {
   "cell_type": "markdown",
   "id": "complimentary-baking",
   "metadata": {},
   "source": [
    "Para generar una lista con los nombres de las variables, concateno los arrays del OneHotEncoder y el de las variables numéricas y les añado name como nombre de la variable que no transformé."
   ]
  },
  {
   "cell_type": "code",
   "execution_count": 9,
   "id": "tribal-designation",
   "metadata": {},
   "outputs": [],
   "source": [
    "columnas=np.concatenate([numericas,cat_features]).tolist()+['Name']"
   ]
  },
  {
   "cell_type": "code",
   "execution_count": 10,
   "id": "acute-foundation",
   "metadata": {},
   "outputs": [],
   "source": [
    "# Dataset transformado.\n",
    "players_tr=pd.DataFrame(players_tr_l,\n",
    "                        columns=columnas,\n",
    "                        dtype=None)"
   ]
  },
  {
   "cell_type": "code",
   "execution_count": 11,
   "id": "three-simon",
   "metadata": {},
   "outputs": [],
   "source": [
    "# Infiero tipos numéricos\n",
    "players_tr[numericas]=players_tr[numericas].astype('float')\n",
    "players_tr[cat_features]=players_tr[cat_features].astype('int')\n"
   ]
  },
  {
   "cell_type": "markdown",
   "id": "adapted-faculty",
   "metadata": {},
   "source": [
    "**Resultado**\n",
    "\n",
    "**Variables categóricas**\n",
    "\n",
    "Veamos como quedan las primeras filas de las variables categóricas. Hemos convertido dos variables categóricas en 37 variables dummie (29 para equipos y 8 para posiciones)  "
   ]
  },
  {
   "cell_type": "code",
   "execution_count": 12,
   "id": "phantom-preliminary",
   "metadata": {},
   "outputs": [
    {
     "data": {
      "text/plain": [
       "array(['SEA', 'NYY', 'TEX', 'CWS', 'MIL', 'BOS', 'BAL', 'MIN', 'CIN',\n",
       "       'DET', 'LAA', 'HOU', 'SD', 'LAD', 'TB', 'ATL', 'STL', 'KC', 'PIT',\n",
       "       'TOR', 'FLA', 'COL', 'PHI', 'NYM', 'ARI', 'CHC', 'SF', 'WSH',\n",
       "       'OAK', 'CLE'], dtype=object)"
      ]
     },
     "execution_count": 12,
     "metadata": {},
     "output_type": "execute_result"
    }
   ],
   "source": [
    "# categorias equipo\n",
    "players.team.unique()"
   ]
  },
  {
   "cell_type": "code",
   "execution_count": 13,
   "id": "normal-drunk",
   "metadata": {},
   "outputs": [
    {
     "data": {
      "text/plain": [
       "array(['OF', 'SS', '3B', '2B', '1B', 'DH', 'C', 'P', '-'], dtype=object)"
      ]
     },
     "execution_count": 13,
     "metadata": {},
     "output_type": "execute_result"
    }
   ],
   "source": [
    "# categorias posicion\n",
    "players.position.unique()"
   ]
  },
  {
   "cell_type": "code",
   "execution_count": 14,
   "id": "fitting-bailey",
   "metadata": {},
   "outputs": [
    {
     "data": {
      "text/html": [
       "<div>\n",
       "<style scoped>\n",
       "    .dataframe tbody tr th:only-of-type {\n",
       "        vertical-align: middle;\n",
       "    }\n",
       "\n",
       "    .dataframe tbody tr th {\n",
       "        vertical-align: top;\n",
       "    }\n",
       "\n",
       "    .dataframe thead th {\n",
       "        text-align: right;\n",
       "    }\n",
       "</style>\n",
       "<table border=\"1\" class=\"dataframe\">\n",
       "  <thead>\n",
       "    <tr style=\"text-align: right;\">\n",
       "      <th></th>\n",
       "      <th>x0_ATL</th>\n",
       "      <th>x0_BAL</th>\n",
       "      <th>x0_BOS</th>\n",
       "      <th>x0_CHC</th>\n",
       "      <th>x0_CIN</th>\n",
       "      <th>x0_CLE</th>\n",
       "      <th>x0_COL</th>\n",
       "      <th>x0_CWS</th>\n",
       "      <th>x0_DET</th>\n",
       "      <th>x0_FLA</th>\n",
       "      <th>x0_HOU</th>\n",
       "      <th>x0_KC</th>\n",
       "      <th>x0_LAA</th>\n",
       "      <th>x0_LAD</th>\n",
       "      <th>x0_MIL</th>\n",
       "      <th>x0_MIN</th>\n",
       "      <th>x0_NYM</th>\n",
       "      <th>x0_NYY</th>\n",
       "      <th>x0_OAK</th>\n",
       "      <th>x0_PHI</th>\n",
       "      <th>x0_PIT</th>\n",
       "      <th>x0_SD</th>\n",
       "      <th>x0_SEA</th>\n",
       "      <th>x0_SF</th>\n",
       "      <th>x0_STL</th>\n",
       "      <th>x0_TB</th>\n",
       "      <th>x0_TEX</th>\n",
       "      <th>x0_TOR</th>\n",
       "      <th>x0_WSH</th>\n",
       "      <th>x1_1B</th>\n",
       "      <th>x1_2B</th>\n",
       "      <th>x1_3B</th>\n",
       "      <th>x1_C</th>\n",
       "      <th>x1_DH</th>\n",
       "      <th>x1_OF</th>\n",
       "      <th>x1_P</th>\n",
       "      <th>x1_SS</th>\n",
       "    </tr>\n",
       "  </thead>\n",
       "  <tbody>\n",
       "    <tr>\n",
       "      <th>0</th>\n",
       "      <td>0</td>\n",
       "      <td>0</td>\n",
       "      <td>0</td>\n",
       "      <td>0</td>\n",
       "      <td>0</td>\n",
       "      <td>0</td>\n",
       "      <td>0</td>\n",
       "      <td>0</td>\n",
       "      <td>0</td>\n",
       "      <td>0</td>\n",
       "      <td>0</td>\n",
       "      <td>0</td>\n",
       "      <td>0</td>\n",
       "      <td>0</td>\n",
       "      <td>0</td>\n",
       "      <td>0</td>\n",
       "      <td>0</td>\n",
       "      <td>0</td>\n",
       "      <td>0</td>\n",
       "      <td>0</td>\n",
       "      <td>0</td>\n",
       "      <td>0</td>\n",
       "      <td>1</td>\n",
       "      <td>0</td>\n",
       "      <td>0</td>\n",
       "      <td>0</td>\n",
       "      <td>0</td>\n",
       "      <td>0</td>\n",
       "      <td>0</td>\n",
       "      <td>0</td>\n",
       "      <td>0</td>\n",
       "      <td>0</td>\n",
       "      <td>0</td>\n",
       "      <td>0</td>\n",
       "      <td>1</td>\n",
       "      <td>0</td>\n",
       "      <td>0</td>\n",
       "    </tr>\n",
       "    <tr>\n",
       "      <th>1</th>\n",
       "      <td>0</td>\n",
       "      <td>0</td>\n",
       "      <td>0</td>\n",
       "      <td>0</td>\n",
       "      <td>0</td>\n",
       "      <td>0</td>\n",
       "      <td>0</td>\n",
       "      <td>0</td>\n",
       "      <td>0</td>\n",
       "      <td>0</td>\n",
       "      <td>0</td>\n",
       "      <td>0</td>\n",
       "      <td>0</td>\n",
       "      <td>0</td>\n",
       "      <td>0</td>\n",
       "      <td>0</td>\n",
       "      <td>0</td>\n",
       "      <td>1</td>\n",
       "      <td>0</td>\n",
       "      <td>0</td>\n",
       "      <td>0</td>\n",
       "      <td>0</td>\n",
       "      <td>0</td>\n",
       "      <td>0</td>\n",
       "      <td>0</td>\n",
       "      <td>0</td>\n",
       "      <td>0</td>\n",
       "      <td>0</td>\n",
       "      <td>0</td>\n",
       "      <td>0</td>\n",
       "      <td>0</td>\n",
       "      <td>0</td>\n",
       "      <td>0</td>\n",
       "      <td>0</td>\n",
       "      <td>0</td>\n",
       "      <td>0</td>\n",
       "      <td>1</td>\n",
       "    </tr>\n",
       "    <tr>\n",
       "      <th>2</th>\n",
       "      <td>0</td>\n",
       "      <td>0</td>\n",
       "      <td>0</td>\n",
       "      <td>0</td>\n",
       "      <td>0</td>\n",
       "      <td>0</td>\n",
       "      <td>0</td>\n",
       "      <td>0</td>\n",
       "      <td>0</td>\n",
       "      <td>0</td>\n",
       "      <td>0</td>\n",
       "      <td>0</td>\n",
       "      <td>0</td>\n",
       "      <td>0</td>\n",
       "      <td>0</td>\n",
       "      <td>0</td>\n",
       "      <td>0</td>\n",
       "      <td>0</td>\n",
       "      <td>0</td>\n",
       "      <td>0</td>\n",
       "      <td>0</td>\n",
       "      <td>0</td>\n",
       "      <td>0</td>\n",
       "      <td>0</td>\n",
       "      <td>0</td>\n",
       "      <td>0</td>\n",
       "      <td>1</td>\n",
       "      <td>0</td>\n",
       "      <td>0</td>\n",
       "      <td>0</td>\n",
       "      <td>0</td>\n",
       "      <td>1</td>\n",
       "      <td>0</td>\n",
       "      <td>0</td>\n",
       "      <td>0</td>\n",
       "      <td>0</td>\n",
       "      <td>0</td>\n",
       "    </tr>\n",
       "    <tr>\n",
       "      <th>3</th>\n",
       "      <td>0</td>\n",
       "      <td>0</td>\n",
       "      <td>0</td>\n",
       "      <td>0</td>\n",
       "      <td>0</td>\n",
       "      <td>0</td>\n",
       "      <td>0</td>\n",
       "      <td>1</td>\n",
       "      <td>0</td>\n",
       "      <td>0</td>\n",
       "      <td>0</td>\n",
       "      <td>0</td>\n",
       "      <td>0</td>\n",
       "      <td>0</td>\n",
       "      <td>0</td>\n",
       "      <td>0</td>\n",
       "      <td>0</td>\n",
       "      <td>0</td>\n",
       "      <td>0</td>\n",
       "      <td>0</td>\n",
       "      <td>0</td>\n",
       "      <td>0</td>\n",
       "      <td>0</td>\n",
       "      <td>0</td>\n",
       "      <td>0</td>\n",
       "      <td>0</td>\n",
       "      <td>0</td>\n",
       "      <td>0</td>\n",
       "      <td>0</td>\n",
       "      <td>0</td>\n",
       "      <td>0</td>\n",
       "      <td>0</td>\n",
       "      <td>0</td>\n",
       "      <td>0</td>\n",
       "      <td>1</td>\n",
       "      <td>0</td>\n",
       "      <td>0</td>\n",
       "    </tr>\n",
       "    <tr>\n",
       "      <th>4</th>\n",
       "      <td>0</td>\n",
       "      <td>0</td>\n",
       "      <td>0</td>\n",
       "      <td>0</td>\n",
       "      <td>0</td>\n",
       "      <td>0</td>\n",
       "      <td>0</td>\n",
       "      <td>0</td>\n",
       "      <td>0</td>\n",
       "      <td>0</td>\n",
       "      <td>0</td>\n",
       "      <td>0</td>\n",
       "      <td>0</td>\n",
       "      <td>0</td>\n",
       "      <td>1</td>\n",
       "      <td>0</td>\n",
       "      <td>0</td>\n",
       "      <td>0</td>\n",
       "      <td>0</td>\n",
       "      <td>0</td>\n",
       "      <td>0</td>\n",
       "      <td>0</td>\n",
       "      <td>0</td>\n",
       "      <td>0</td>\n",
       "      <td>0</td>\n",
       "      <td>0</td>\n",
       "      <td>0</td>\n",
       "      <td>0</td>\n",
       "      <td>0</td>\n",
       "      <td>0</td>\n",
       "      <td>1</td>\n",
       "      <td>0</td>\n",
       "      <td>0</td>\n",
       "      <td>0</td>\n",
       "      <td>0</td>\n",
       "      <td>0</td>\n",
       "      <td>0</td>\n",
       "    </tr>\n",
       "  </tbody>\n",
       "</table>\n",
       "</div>"
      ],
      "text/plain": [
       "   x0_ATL  x0_BAL  x0_BOS  x0_CHC  x0_CIN  x0_CLE  x0_COL  x0_CWS  x0_DET  \\\n",
       "0       0       0       0       0       0       0       0       0       0   \n",
       "1       0       0       0       0       0       0       0       0       0   \n",
       "2       0       0       0       0       0       0       0       0       0   \n",
       "3       0       0       0       0       0       0       0       1       0   \n",
       "4       0       0       0       0       0       0       0       0       0   \n",
       "\n",
       "   x0_FLA  x0_HOU  x0_KC  x0_LAA  x0_LAD  x0_MIL  x0_MIN  x0_NYM  x0_NYY  \\\n",
       "0       0       0      0       0       0       0       0       0       0   \n",
       "1       0       0      0       0       0       0       0       0       1   \n",
       "2       0       0      0       0       0       0       0       0       0   \n",
       "3       0       0      0       0       0       0       0       0       0   \n",
       "4       0       0      0       0       0       1       0       0       0   \n",
       "\n",
       "   x0_OAK  x0_PHI  x0_PIT  x0_SD  x0_SEA  x0_SF  x0_STL  x0_TB  x0_TEX  \\\n",
       "0       0       0       0      0       1      0       0      0       0   \n",
       "1       0       0       0      0       0      0       0      0       0   \n",
       "2       0       0       0      0       0      0       0      0       1   \n",
       "3       0       0       0      0       0      0       0      0       0   \n",
       "4       0       0       0      0       0      0       0      0       0   \n",
       "\n",
       "   x0_TOR  x0_WSH  x1_1B  x1_2B  x1_3B  x1_C  x1_DH  x1_OF  x1_P  x1_SS  \n",
       "0       0       0      0      0      0     0      0      1     0      0  \n",
       "1       0       0      0      0      0     0      0      0     0      1  \n",
       "2       0       0      0      0      1     0      0      0     0      0  \n",
       "3       0       0      0      0      0     0      0      1     0      0  \n",
       "4       0       0      0      1      0     0      0      0     0      0  "
      ]
     },
     "execution_count": 14,
     "metadata": {},
     "output_type": "execute_result"
    }
   ],
   "source": [
    "# Primeras filas variables dummies \n",
    "players_tr[cat_features].head()"
   ]
  },
  {
   "cell_type": "markdown",
   "id": "amateur-facing",
   "metadata": {},
   "source": [
    "**Variables numéricas**\n",
    "\n",
    "StandardScaler transforma la distribución de mis variables en variables con media cero y desviaciópn estandard 1. "
   ]
  },
  {
   "cell_type": "code",
   "execution_count": 15,
   "id": "detailed-instrumentation",
   "metadata": {},
   "outputs": [
    {
     "data": {
      "text/html": [
       "<div>\n",
       "<style scoped>\n",
       "    .dataframe tbody tr th:only-of-type {\n",
       "        vertical-align: middle;\n",
       "    }\n",
       "\n",
       "    .dataframe tbody tr th {\n",
       "        vertical-align: top;\n",
       "    }\n",
       "\n",
       "    .dataframe thead th {\n",
       "        text-align: right;\n",
       "    }\n",
       "</style>\n",
       "<table border=\"1\" class=\"dataframe\">\n",
       "  <thead>\n",
       "    <tr style=\"text-align: right;\">\n",
       "      <th></th>\n",
       "      <th>game</th>\n",
       "      <th>at_bat</th>\n",
       "      <th>run</th>\n",
       "      <th>hit</th>\n",
       "      <th>double</th>\n",
       "      <th>triple</th>\n",
       "      <th>home_run</th>\n",
       "      <th>rbi</th>\n",
       "      <th>total_base</th>\n",
       "      <th>walk</th>\n",
       "      <th>strike_out</th>\n",
       "      <th>stolen_base</th>\n",
       "      <th>caught_stealing</th>\n",
       "      <th>obp</th>\n",
       "      <th>slg</th>\n",
       "      <th>bat_avg</th>\n",
       "    </tr>\n",
       "  </thead>\n",
       "  <tbody>\n",
       "    <tr>\n",
       "      <th>count</th>\n",
       "      <td>1.199000e+03</td>\n",
       "      <td>1.199000e+03</td>\n",
       "      <td>1.199000e+03</td>\n",
       "      <td>1.199000e+03</td>\n",
       "      <td>1.199000e+03</td>\n",
       "      <td>1.199000e+03</td>\n",
       "      <td>1.199000e+03</td>\n",
       "      <td>1.199000e+03</td>\n",
       "      <td>1.199000e+03</td>\n",
       "      <td>1.199000e+03</td>\n",
       "      <td>1.199000e+03</td>\n",
       "      <td>1.199000e+03</td>\n",
       "      <td>1.199000e+03</td>\n",
       "      <td>1.199000e+03</td>\n",
       "      <td>1.199000e+03</td>\n",
       "      <td>1.199000e+03</td>\n",
       "    </tr>\n",
       "    <tr>\n",
       "      <th>mean</th>\n",
       "      <td>-5.781679e-16</td>\n",
       "      <td>-2.251929e-16</td>\n",
       "      <td>9.794778e-16</td>\n",
       "      <td>5.007578e-16</td>\n",
       "      <td>-4.027915e-16</td>\n",
       "      <td>-4.323295e-16</td>\n",
       "      <td>-7.538220e-15</td>\n",
       "      <td>-2.243225e-15</td>\n",
       "      <td>2.090812e-15</td>\n",
       "      <td>1.339120e-15</td>\n",
       "      <td>2.328783e-15</td>\n",
       "      <td>3.103439e-15</td>\n",
       "      <td>-2.547679e-15</td>\n",
       "      <td>1.981919e-15</td>\n",
       "      <td>-2.275633e-15</td>\n",
       "      <td>1.104112e-15</td>\n",
       "    </tr>\n",
       "    <tr>\n",
       "      <th>std</th>\n",
       "      <td>1.000417e+00</td>\n",
       "      <td>1.000417e+00</td>\n",
       "      <td>1.000417e+00</td>\n",
       "      <td>1.000417e+00</td>\n",
       "      <td>1.000417e+00</td>\n",
       "      <td>1.000417e+00</td>\n",
       "      <td>1.000417e+00</td>\n",
       "      <td>1.000417e+00</td>\n",
       "      <td>1.000417e+00</td>\n",
       "      <td>1.000417e+00</td>\n",
       "      <td>1.000417e+00</td>\n",
       "      <td>1.000417e+00</td>\n",
       "      <td>1.000417e+00</td>\n",
       "      <td>1.000417e+00</td>\n",
       "      <td>1.000417e+00</td>\n",
       "      <td>1.000417e+00</td>\n",
       "    </tr>\n",
       "    <tr>\n",
       "      <th>min</th>\n",
       "      <td>-1.000220e+00</td>\n",
       "      <td>-7.333700e-01</td>\n",
       "      <td>-6.572297e-01</td>\n",
       "      <td>-6.840123e-01</td>\n",
       "      <td>-6.548189e-01</td>\n",
       "      <td>-4.510451e-01</td>\n",
       "      <td>-5.220833e-01</td>\n",
       "      <td>-6.355092e-01</td>\n",
       "      <td>-6.638798e-01</td>\n",
       "      <td>-6.348314e-01</td>\n",
       "      <td>-7.446176e-01</td>\n",
       "      <td>-3.809985e-01</td>\n",
       "      <td>-4.357840e-01</td>\n",
       "      <td>-1.187220e+00</td>\n",
       "      <td>-1.006928e+00</td>\n",
       "      <td>-1.102732e+00</td>\n",
       "    </tr>\n",
       "    <tr>\n",
       "      <th>25%</th>\n",
       "      <td>-8.588738e-01</td>\n",
       "      <td>-7.280522e-01</td>\n",
       "      <td>-6.572297e-01</td>\n",
       "      <td>-6.840123e-01</td>\n",
       "      <td>-6.548189e-01</td>\n",
       "      <td>-4.510451e-01</td>\n",
       "      <td>-5.220833e-01</td>\n",
       "      <td>-6.355092e-01</td>\n",
       "      <td>-6.638798e-01</td>\n",
       "      <td>-6.348314e-01</td>\n",
       "      <td>-7.185931e-01</td>\n",
       "      <td>-3.809985e-01</td>\n",
       "      <td>-4.357840e-01</td>\n",
       "      <td>-1.187220e+00</td>\n",
       "      <td>-1.006928e+00</td>\n",
       "      <td>-1.102732e+00</td>\n",
       "    </tr>\n",
       "    <tr>\n",
       "      <th>50%</th>\n",
       "      <td>-3.944497e-01</td>\n",
       "      <td>-5.366122e-01</td>\n",
       "      <td>-5.462828e-01</td>\n",
       "      <td>-5.683761e-01</td>\n",
       "      <td>-5.622985e-01</td>\n",
       "      <td>-4.510451e-01</td>\n",
       "      <td>-5.220833e-01</td>\n",
       "      <td>-5.603933e-01</td>\n",
       "      <td>-5.682809e-01</td>\n",
       "      <td>-5.383473e-01</td>\n",
       "      <td>-4.843726e-01</td>\n",
       "      <td>-3.809985e-01</td>\n",
       "      <td>-4.357840e-01</td>\n",
       "      <td>2.857485e-01</td>\n",
       "      <td>1.499588e-01</td>\n",
       "      <td>2.464975e-01</td>\n",
       "    </tr>\n",
       "    <tr>\n",
       "      <th>75%</th>\n",
       "      <td>6.757448e-01</td>\n",
       "      <td>4.631302e-01</td>\n",
       "      <td>3.228007e-01</td>\n",
       "      <td>3.952593e-01</td>\n",
       "      <td>3.629052e-01</td>\n",
       "      <td>1.734388e-01</td>\n",
       "      <td>2.071130e-02</td>\n",
       "      <td>3.034394e-01</td>\n",
       "      <td>3.219833e-01</td>\n",
       "      <td>3.300093e-01</td>\n",
       "      <td>4.004604e-01</td>\n",
       "      <td>-2.266162e-01</td>\n",
       "      <td>2.701938e-02</td>\n",
       "      <td>6.843163e-01</td>\n",
       "      <td>6.627183e-01</td>\n",
       "      <td>6.893215e-01</td>\n",
       "    </tr>\n",
       "    <tr>\n",
       "      <th>max</th>\n",
       "      <td>2.250748e+00</td>\n",
       "      <td>2.882719e+00</td>\n",
       "      <td>3.595732e+00</td>\n",
       "      <td>3.440347e+00</td>\n",
       "      <td>3.878679e+00</td>\n",
       "      <td>8.291730e+00</td>\n",
       "      <td>6.805644e+00</td>\n",
       "      <td>4.096792e+00</td>\n",
       "      <td>3.530520e+00</td>\n",
       "      <td>4.864761e+00</td>\n",
       "      <td>4.746552e+00</td>\n",
       "      <td>1.011700e+01</td>\n",
       "      <td>7.894677e+00</td>\n",
       "      <td>4.589126e+00</td>\n",
       "      <td>1.594380e+01</td>\n",
       "      <td>5.816394e+00</td>\n",
       "    </tr>\n",
       "  </tbody>\n",
       "</table>\n",
       "</div>"
      ],
      "text/plain": [
       "               game        at_bat           run           hit        double  \\\n",
       "count  1.199000e+03  1.199000e+03  1.199000e+03  1.199000e+03  1.199000e+03   \n",
       "mean  -5.781679e-16 -2.251929e-16  9.794778e-16  5.007578e-16 -4.027915e-16   \n",
       "std    1.000417e+00  1.000417e+00  1.000417e+00  1.000417e+00  1.000417e+00   \n",
       "min   -1.000220e+00 -7.333700e-01 -6.572297e-01 -6.840123e-01 -6.548189e-01   \n",
       "25%   -8.588738e-01 -7.280522e-01 -6.572297e-01 -6.840123e-01 -6.548189e-01   \n",
       "50%   -3.944497e-01 -5.366122e-01 -5.462828e-01 -5.683761e-01 -5.622985e-01   \n",
       "75%    6.757448e-01  4.631302e-01  3.228007e-01  3.952593e-01  3.629052e-01   \n",
       "max    2.250748e+00  2.882719e+00  3.595732e+00  3.440347e+00  3.878679e+00   \n",
       "\n",
       "             triple      home_run           rbi    total_base          walk  \\\n",
       "count  1.199000e+03  1.199000e+03  1.199000e+03  1.199000e+03  1.199000e+03   \n",
       "mean  -4.323295e-16 -7.538220e-15 -2.243225e-15  2.090812e-15  1.339120e-15   \n",
       "std    1.000417e+00  1.000417e+00  1.000417e+00  1.000417e+00  1.000417e+00   \n",
       "min   -4.510451e-01 -5.220833e-01 -6.355092e-01 -6.638798e-01 -6.348314e-01   \n",
       "25%   -4.510451e-01 -5.220833e-01 -6.355092e-01 -6.638798e-01 -6.348314e-01   \n",
       "50%   -4.510451e-01 -5.220833e-01 -5.603933e-01 -5.682809e-01 -5.383473e-01   \n",
       "75%    1.734388e-01  2.071130e-02  3.034394e-01  3.219833e-01  3.300093e-01   \n",
       "max    8.291730e+00  6.805644e+00  4.096792e+00  3.530520e+00  4.864761e+00   \n",
       "\n",
       "         strike_out   stolen_base  caught_stealing           obp  \\\n",
       "count  1.199000e+03  1.199000e+03     1.199000e+03  1.199000e+03   \n",
       "mean   2.328783e-15  3.103439e-15    -2.547679e-15  1.981919e-15   \n",
       "std    1.000417e+00  1.000417e+00     1.000417e+00  1.000417e+00   \n",
       "min   -7.446176e-01 -3.809985e-01    -4.357840e-01 -1.187220e+00   \n",
       "25%   -7.185931e-01 -3.809985e-01    -4.357840e-01 -1.187220e+00   \n",
       "50%   -4.843726e-01 -3.809985e-01    -4.357840e-01  2.857485e-01   \n",
       "75%    4.004604e-01 -2.266162e-01     2.701938e-02  6.843163e-01   \n",
       "max    4.746552e+00  1.011700e+01     7.894677e+00  4.589126e+00   \n",
       "\n",
       "                slg       bat_avg  \n",
       "count  1.199000e+03  1.199000e+03  \n",
       "mean  -2.275633e-15  1.104112e-15  \n",
       "std    1.000417e+00  1.000417e+00  \n",
       "min   -1.006928e+00 -1.102732e+00  \n",
       "25%   -1.006928e+00 -1.102732e+00  \n",
       "50%    1.499588e-01  2.464975e-01  \n",
       "75%    6.627183e-01  6.893215e-01  \n",
       "max    1.594380e+01  5.816394e+00  "
      ]
     },
     "execution_count": 15,
     "metadata": {},
     "output_type": "execute_result"
    }
   ],
   "source": [
    "# Estadisticos de variables numéricas\n",
    "players_tr[numericas].describe()"
   ]
  },
  {
   "cell_type": "markdown",
   "id": "sexual-union",
   "metadata": {},
   "source": [
    "## Nivell 2\n",
    "\n",
    "- Exercici 2\n",
    "\n",
    "Continua amb el conjunt de dades de tema esportiu que t'agradi i aplica l'anàlisi de components principals.\n",
    "\n"
   ]
  },
  {
   "cell_type": "code",
   "execution_count": 16,
   "id": "prospective-relationship",
   "metadata": {},
   "outputs": [],
   "source": [
    "from sklearn.decomposition import PCA"
   ]
  },
  {
   "cell_type": "code",
   "execution_count": 17,
   "id": "answering-medication",
   "metadata": {},
   "outputs": [],
   "source": [
    "# Instancio el modelo PCA\n",
    "component=PCA()"
   ]
  },
  {
   "cell_type": "code",
   "execution_count": 18,
   "id": "artificial-motel",
   "metadata": {},
   "outputs": [
    {
     "name": "stdout",
     "output_type": "stream",
     "text": [
      "<class 'pandas.core.frame.DataFrame'>\n",
      "RangeIndex: 1199 entries, 0 to 1198\n",
      "Data columns (total 54 columns):\n",
      " #   Column           Non-Null Count  Dtype  \n",
      "---  ------           --------------  -----  \n",
      " 0   game             1199 non-null   float64\n",
      " 1   at_bat           1199 non-null   float64\n",
      " 2   run              1199 non-null   float64\n",
      " 3   hit              1199 non-null   float64\n",
      " 4   double           1199 non-null   float64\n",
      " 5   triple           1199 non-null   float64\n",
      " 6   home_run         1199 non-null   float64\n",
      " 7   rbi              1199 non-null   float64\n",
      " 8   total_base       1199 non-null   float64\n",
      " 9   walk             1199 non-null   float64\n",
      " 10  strike_out       1199 non-null   float64\n",
      " 11  stolen_base      1199 non-null   float64\n",
      " 12  caught_stealing  1199 non-null   float64\n",
      " 13  obp              1199 non-null   float64\n",
      " 14  slg              1199 non-null   float64\n",
      " 15  bat_avg          1199 non-null   float64\n",
      " 16  x0_ATL           1199 non-null   int32  \n",
      " 17  x0_BAL           1199 non-null   int32  \n",
      " 18  x0_BOS           1199 non-null   int32  \n",
      " 19  x0_CHC           1199 non-null   int32  \n",
      " 20  x0_CIN           1199 non-null   int32  \n",
      " 21  x0_CLE           1199 non-null   int32  \n",
      " 22  x0_COL           1199 non-null   int32  \n",
      " 23  x0_CWS           1199 non-null   int32  \n",
      " 24  x0_DET           1199 non-null   int32  \n",
      " 25  x0_FLA           1199 non-null   int32  \n",
      " 26  x0_HOU           1199 non-null   int32  \n",
      " 27  x0_KC            1199 non-null   int32  \n",
      " 28  x0_LAA           1199 non-null   int32  \n",
      " 29  x0_LAD           1199 non-null   int32  \n",
      " 30  x0_MIL           1199 non-null   int32  \n",
      " 31  x0_MIN           1199 non-null   int32  \n",
      " 32  x0_NYM           1199 non-null   int32  \n",
      " 33  x0_NYY           1199 non-null   int32  \n",
      " 34  x0_OAK           1199 non-null   int32  \n",
      " 35  x0_PHI           1199 non-null   int32  \n",
      " 36  x0_PIT           1199 non-null   int32  \n",
      " 37  x0_SD            1199 non-null   int32  \n",
      " 38  x0_SEA           1199 non-null   int32  \n",
      " 39  x0_SF            1199 non-null   int32  \n",
      " 40  x0_STL           1199 non-null   int32  \n",
      " 41  x0_TB            1199 non-null   int32  \n",
      " 42  x0_TEX           1199 non-null   int32  \n",
      " 43  x0_TOR           1199 non-null   int32  \n",
      " 44  x0_WSH           1199 non-null   int32  \n",
      " 45  x1_1B            1199 non-null   int32  \n",
      " 46  x1_2B            1199 non-null   int32  \n",
      " 47  x1_3B            1199 non-null   int32  \n",
      " 48  x1_C             1199 non-null   int32  \n",
      " 49  x1_DH            1199 non-null   int32  \n",
      " 50  x1_OF            1199 non-null   int32  \n",
      " 51  x1_P             1199 non-null   int32  \n",
      " 52  x1_SS            1199 non-null   int32  \n",
      " 53  Name             1199 non-null   object \n",
      "dtypes: float64(16), int32(37), object(1)\n",
      "memory usage: 332.7+ KB\n"
     ]
    }
   ],
   "source": [
    "players_tr.info()#.select_dtypes(exclude='object')"
   ]
  },
  {
   "cell_type": "markdown",
   "id": "russian-nation",
   "metadata": {},
   "source": [
    "Tengo un dataset con 53 variables de tipo numérico y una de tipo categórico (name). El análisis de componentes principales se aplica a los campos numéricos de un conjunto de datos, en este caso no tiene sentido hacer una transformación para name por lo que lo voy a descartar."
   ]
  },
  {
   "cell_type": "code",
   "execution_count": 19,
   "id": "subjective-gamma",
   "metadata": {},
   "outputs": [
    {
     "data": {
      "text/plain": [
       "array([[ 8.28693230e+00, -1.93072239e+00,  4.45236977e+00, ...,\n",
       "         5.03431329e-03,  9.07628057e-03,  3.44018684e-14],\n",
       "       [ 7.91249949e+00, -1.44995101e+00,  7.40915063e-01, ...,\n",
       "         5.86390783e-03,  4.32860299e-03, -1.71524478e-15],\n",
       "       [ 8.01262126e+00, -7.78362116e-01, -2.01057573e+00, ...,\n",
       "        -4.69993145e-03,  4.71804724e-03,  8.85044542e-15],\n",
       "       ...,\n",
       "       [-2.79730230e+00, -1.14188032e+00, -1.42788918e-01, ...,\n",
       "        -8.04515039e-03, -9.35960205e-04,  9.05371307e-16],\n",
       "       [-2.80260684e+00, -1.13788214e+00, -1.32700960e-01, ...,\n",
       "        -1.04983920e-02,  1.79623257e-03,  2.74337204e-16],\n",
       "       [-2.81318847e+00, -1.14001317e+00, -1.41532669e-01, ...,\n",
       "        -7.95093821e-03,  3.54320402e-05,  1.18623081e-16]])"
      ]
     },
     "execution_count": 19,
     "metadata": {},
     "output_type": "execute_result"
    }
   ],
   "source": [
    "# Elimino la columna Name\n",
    "players_tr_PCA=players_tr.select_dtypes(exclude='object')\n",
    "\n",
    "# Ajusto y entreno el modelo con el dataset.\n",
    "componentes_principales=component.fit_transform(players_tr_PCA)\n",
    "componentes_principales"
   ]
  },
  {
   "cell_type": "markdown",
   "id": "comparable-tenant",
   "metadata": {},
   "source": [
    "El array _componentes_principales_ contiene la transformación de las variables."
   ]
  },
  {
   "cell_type": "code",
   "execution_count": 20,
   "id": "attached-community",
   "metadata": {},
   "outputs": [
    {
     "data": {
      "text/plain": [
       "(1199, 53)"
      ]
     },
     "execution_count": 20,
     "metadata": {},
     "output_type": "execute_result"
    }
   ],
   "source": [
    "players_tr_PCA.shape"
   ]
  },
  {
   "cell_type": "code",
   "execution_count": 21,
   "id": "bottom-technology",
   "metadata": {},
   "outputs": [],
   "source": [
    "#for n in [1,2,3,5,7,51]:\n",
    "#    component=PCA(n_components=n)\n",
    "#    component.fit_transform(players_tr_PCA)\n",
    "#    score=component.score(players_tr_PCA)\n",
    "#    print(n,score)"
   ]
  },
  {
   "cell_type": "code",
   "execution_count": 22,
   "id": "unlimited-assembly",
   "metadata": {},
   "outputs": [
    {
     "data": {
      "text/plain": [
       "array([0.65363156, 0.7607405 , 0.83095187, 0.85427766, 0.8687957 ,\n",
       "       0.87999456, 0.88980434, 0.89881609, 0.90686782, 0.91437929,\n",
       "       0.92017293, 0.92534174, 0.9297096 , 0.93349633, 0.93687379,\n",
       "       0.94015528, 0.94305456, 0.9455081 , 0.94777644, 0.94994719,\n",
       "       0.95207282])"
      ]
     },
     "execution_count": 22,
     "metadata": {},
     "output_type": "execute_result"
    }
   ],
   "source": [
    "# Reducción de dimensionalidad. Varianza explicada del 95%\n",
    "component_95=PCA(n_components=0.95)\n",
    "component_95.fit_transform(players_tr_PCA)\n",
    "component_95.explained_variance_ratio_.cumsum()"
   ]
  },
  {
   "cell_type": "markdown",
   "id": "adaptive-ghost",
   "metadata": {},
   "source": [
    "Vemos que las 21 primeras variables explican el 95% de la varianza del dataset."
   ]
  },
  {
   "cell_type": "code",
   "execution_count": 23,
   "id": "national-supervision",
   "metadata": {},
   "outputs": [
    {
     "data": {
      "image/png": "[encoded data removed]",
      "text/plain": [
       "<Figure size 864x576 with 1 Axes>"
      ]
     },
     "metadata": {
      "needs_background": "light"
     },
     "output_type": "display_data"
    }
   ],
   "source": [
    "fig, ax = plt.subplots(nrows=1, ncols=1, figsize=(12, 8))\n",
    "\n",
    "ax.plot(component.explained_variance_ratio_.cumsum(),\n",
    "         marker='o');"
   ]
  },
  {
   "cell_type": "markdown",
   "id": "dedicated-discharge",
   "metadata": {},
   "source": [
    "## Nivell 3\n",
    "- Exercici 3\n",
    "\n",
    "Continua amb el conjunt de dades de tema esportiu que t'agradi i normalitza les dades tenint en compte els outliers.\n",
    "\n",
    "\n"
   ]
  },
  {
   "cell_type": "code",
   "execution_count": 24,
   "id": "original-landscape",
   "metadata": {},
   "outputs": [
    {
     "data": {
      "text/html": [
       "<div>\n",
       "<style scoped>\n",
       "    .dataframe tbody tr th:only-of-type {\n",
       "        vertical-align: middle;\n",
       "    }\n",
       "\n",
       "    .dataframe tbody tr th {\n",
       "        vertical-align: top;\n",
       "    }\n",
       "\n",
       "    .dataframe thead th {\n",
       "        text-align: right;\n",
       "    }\n",
       "</style>\n",
       "<table border=\"1\" class=\"dataframe\">\n",
       "  <thead>\n",
       "    <tr style=\"text-align: right;\">\n",
       "      <th></th>\n",
       "      <th>game</th>\n",
       "      <th>at_bat</th>\n",
       "      <th>run</th>\n",
       "      <th>hit</th>\n",
       "      <th>double</th>\n",
       "      <th>triple</th>\n",
       "      <th>home_run</th>\n",
       "      <th>rbi</th>\n",
       "      <th>total_base</th>\n",
       "      <th>walk</th>\n",
       "      <th>strike_out</th>\n",
       "      <th>stolen_base</th>\n",
       "      <th>caught_stealing</th>\n",
       "      <th>obp</th>\n",
       "      <th>slg</th>\n",
       "      <th>bat_avg</th>\n",
       "    </tr>\n",
       "  </thead>\n",
       "  <tbody>\n",
       "    <tr>\n",
       "      <th>count</th>\n",
       "      <td>1199.000000</td>\n",
       "      <td>1199.000000</td>\n",
       "      <td>1199.000000</td>\n",
       "      <td>1199.000000</td>\n",
       "      <td>1199.000000</td>\n",
       "      <td>1199.000000</td>\n",
       "      <td>1199.000000</td>\n",
       "      <td>1199.000000</td>\n",
       "      <td>1199.000000</td>\n",
       "      <td>1199.000000</td>\n",
       "      <td>1199.000000</td>\n",
       "      <td>1199.00000</td>\n",
       "      <td>1199.000000</td>\n",
       "      <td>1199.000000</td>\n",
       "      <td>1199.000000</td>\n",
       "      <td>1199.000000</td>\n",
       "    </tr>\n",
       "    <tr>\n",
       "      <th>mean</th>\n",
       "      <td>50.534612</td>\n",
       "      <td>137.909091</td>\n",
       "      <td>17.771476</td>\n",
       "      <td>35.491243</td>\n",
       "      <td>7.077565</td>\n",
       "      <td>0.722269</td>\n",
       "      <td>3.847373</td>\n",
       "      <td>16.920767</td>\n",
       "      <td>55.555463</td>\n",
       "      <td>13.159299</td>\n",
       "      <td>28.612177</td>\n",
       "      <td>2.46789</td>\n",
       "      <td>0.941618</td>\n",
       "      <td>0.205531</td>\n",
       "      <td>0.237613</td>\n",
       "      <td>0.159374</td>\n",
       "    </tr>\n",
       "    <tr>\n",
       "      <th>std</th>\n",
       "      <td>49.544371</td>\n",
       "      <td>188.126913</td>\n",
       "      <td>27.051262</td>\n",
       "      <td>51.908498</td>\n",
       "      <td>10.812941</td>\n",
       "      <td>1.601990</td>\n",
       "      <td>7.372345</td>\n",
       "      <td>26.636637</td>\n",
       "      <td>83.717936</td>\n",
       "      <td>20.737459</td>\n",
       "      <td>38.441364</td>\n",
       "      <td>6.48013</td>\n",
       "      <td>2.161646</td>\n",
       "      <td>0.173192</td>\n",
       "      <td>0.236077</td>\n",
       "      <td>0.144587</td>\n",
       "    </tr>\n",
       "    <tr>\n",
       "      <th>min</th>\n",
       "      <td>1.000000</td>\n",
       "      <td>0.000000</td>\n",
       "      <td>0.000000</td>\n",
       "      <td>0.000000</td>\n",
       "      <td>0.000000</td>\n",
       "      <td>0.000000</td>\n",
       "      <td>0.000000</td>\n",
       "      <td>0.000000</td>\n",
       "      <td>0.000000</td>\n",
       "      <td>0.000000</td>\n",
       "      <td>0.000000</td>\n",
       "      <td>0.00000</td>\n",
       "      <td>0.000000</td>\n",
       "      <td>0.000000</td>\n",
       "      <td>0.000000</td>\n",
       "      <td>0.000000</td>\n",
       "    </tr>\n",
       "    <tr>\n",
       "      <th>25%</th>\n",
       "      <td>8.000000</td>\n",
       "      <td>1.000000</td>\n",
       "      <td>0.000000</td>\n",
       "      <td>0.000000</td>\n",
       "      <td>0.000000</td>\n",
       "      <td>0.000000</td>\n",
       "      <td>0.000000</td>\n",
       "      <td>0.000000</td>\n",
       "      <td>0.000000</td>\n",
       "      <td>0.000000</td>\n",
       "      <td>1.000000</td>\n",
       "      <td>0.00000</td>\n",
       "      <td>0.000000</td>\n",
       "      <td>0.000000</td>\n",
       "      <td>0.000000</td>\n",
       "      <td>0.000000</td>\n",
       "    </tr>\n",
       "    <tr>\n",
       "      <th>50%</th>\n",
       "      <td>31.000000</td>\n",
       "      <td>37.000000</td>\n",
       "      <td>3.000000</td>\n",
       "      <td>6.000000</td>\n",
       "      <td>1.000000</td>\n",
       "      <td>0.000000</td>\n",
       "      <td>0.000000</td>\n",
       "      <td>2.000000</td>\n",
       "      <td>8.000000</td>\n",
       "      <td>2.000000</td>\n",
       "      <td>10.000000</td>\n",
       "      <td>0.00000</td>\n",
       "      <td>0.000000</td>\n",
       "      <td>0.255000</td>\n",
       "      <td>0.273000</td>\n",
       "      <td>0.195000</td>\n",
       "    </tr>\n",
       "    <tr>\n",
       "      <th>75%</th>\n",
       "      <td>84.000000</td>\n",
       "      <td>225.000000</td>\n",
       "      <td>26.500000</td>\n",
       "      <td>56.000000</td>\n",
       "      <td>11.000000</td>\n",
       "      <td>1.000000</td>\n",
       "      <td>4.000000</td>\n",
       "      <td>25.000000</td>\n",
       "      <td>82.500000</td>\n",
       "      <td>20.000000</td>\n",
       "      <td>44.000000</td>\n",
       "      <td>1.00000</td>\n",
       "      <td>1.000000</td>\n",
       "      <td>0.324000</td>\n",
       "      <td>0.394000</td>\n",
       "      <td>0.259000</td>\n",
       "    </tr>\n",
       "    <tr>\n",
       "      <th>max</th>\n",
       "      <td>162.000000</td>\n",
       "      <td>680.000000</td>\n",
       "      <td>115.000000</td>\n",
       "      <td>214.000000</td>\n",
       "      <td>49.000000</td>\n",
       "      <td>14.000000</td>\n",
       "      <td>54.000000</td>\n",
       "      <td>126.000000</td>\n",
       "      <td>351.000000</td>\n",
       "      <td>114.000000</td>\n",
       "      <td>211.000000</td>\n",
       "      <td>68.00000</td>\n",
       "      <td>18.000000</td>\n",
       "      <td>1.000000</td>\n",
       "      <td>4.000000</td>\n",
       "      <td>1.000000</td>\n",
       "    </tr>\n",
       "  </tbody>\n",
       "</table>\n",
       "</div>"
      ],
      "text/plain": [
       "              game       at_bat          run          hit       double  \\\n",
       "count  1199.000000  1199.000000  1199.000000  1199.000000  1199.000000   \n",
       "mean     50.534612   137.909091    17.771476    35.491243     7.077565   \n",
       "std      49.544371   188.126913    27.051262    51.908498    10.812941   \n",
       "min       1.000000     0.000000     0.000000     0.000000     0.000000   \n",
       "25%       8.000000     1.000000     0.000000     0.000000     0.000000   \n",
       "50%      31.000000    37.000000     3.000000     6.000000     1.000000   \n",
       "75%      84.000000   225.000000    26.500000    56.000000    11.000000   \n",
       "max     162.000000   680.000000   115.000000   214.000000    49.000000   \n",
       "\n",
       "            triple     home_run          rbi   total_base         walk  \\\n",
       "count  1199.000000  1199.000000  1199.000000  1199.000000  1199.000000   \n",
       "mean      0.722269     3.847373    16.920767    55.555463    13.159299   \n",
       "std       1.601990     7.372345    26.636637    83.717936    20.737459   \n",
       "min       0.000000     0.000000     0.000000     0.000000     0.000000   \n",
       "25%       0.000000     0.000000     0.000000     0.000000     0.000000   \n",
       "50%       0.000000     0.000000     2.000000     8.000000     2.000000   \n",
       "75%       1.000000     4.000000    25.000000    82.500000    20.000000   \n",
       "max      14.000000    54.000000   126.000000   351.000000   114.000000   \n",
       "\n",
       "        strike_out  stolen_base  caught_stealing          obp          slg  \\\n",
       "count  1199.000000   1199.00000      1199.000000  1199.000000  1199.000000   \n",
       "mean     28.612177      2.46789         0.941618     0.205531     0.237613   \n",
       "std      38.441364      6.48013         2.161646     0.173192     0.236077   \n",
       "min       0.000000      0.00000         0.000000     0.000000     0.000000   \n",
       "25%       1.000000      0.00000         0.000000     0.000000     0.000000   \n",
       "50%      10.000000      0.00000         0.000000     0.255000     0.273000   \n",
       "75%      44.000000      1.00000         1.000000     0.324000     0.394000   \n",
       "max     211.000000     68.00000        18.000000     1.000000     4.000000   \n",
       "\n",
       "           bat_avg  \n",
       "count  1199.000000  \n",
       "mean      0.159374  \n",
       "std       0.144587  \n",
       "min       0.000000  \n",
       "25%       0.000000  \n",
       "50%       0.195000  \n",
       "75%       0.259000  \n",
       "max       1.000000  "
      ]
     },
     "execution_count": 24,
     "metadata": {},
     "output_type": "execute_result"
    }
   ],
   "source": [
    "players.describe()"
   ]
  },
  {
   "cell_type": "markdown",
   "id": "activated-method",
   "metadata": {},
   "source": [
    "Voy a explorar visualmente que conjunto de datos tiene outliers y después voy a hacer diferentes transformaciones para ver como se comportan los diferentes métodos.  "
   ]
  },
  {
   "cell_type": "code",
   "execution_count": 25,
   "id": "loved-advocate",
   "metadata": {},
   "outputs": [
    {
     "data": {
      "image/png": "[encoded data removed]",
      "text/plain": [
       "<Figure size 1008x432 with 1 Axes>"
      ]
     },
     "metadata": {
      "needs_background": "light"
     },
     "output_type": "display_data"
    }
   ],
   "source": [
    "# Representación boxplots\n",
    "fig, ax=plt.subplots(figsize=(14,6))\n",
    "players.boxplot();"
   ]
  },
  {
   "cell_type": "markdown",
   "id": "historic-upgrade",
   "metadata": {},
   "source": [
    "Voy a escoger las variables _game_, _at_bat_, _double_ y _total_base_. "
   ]
  },
  {
   "cell_type": "code",
   "execution_count": 26,
   "id": "brazilian-gabriel",
   "metadata": {},
   "outputs": [],
   "source": [
    "variables=['game','at_bat','double','total_base']\n",
    "seleccion=players[variables]"
   ]
  },
  {
   "cell_type": "code",
   "execution_count": 27,
   "id": "acquired-offering",
   "metadata": {},
   "outputs": [
    {
     "data": {
      "image/png": "[encoded data removed]",
      "text/plain": [
       "<Figure size 1008x576 with 4 Axes>"
      ]
     },
     "metadata": {
      "needs_background": "light"
     },
     "output_type": "display_data"
    }
   ],
   "source": [
    "# Representación histogramas\n",
    "seleccion.hist(figsize=(14,8),bins=100);"
   ]
  },
  {
   "cell_type": "code",
   "execution_count": 28,
   "id": "joined-tablet",
   "metadata": {},
   "outputs": [],
   "source": [
    "from sklearn.preprocessing import RobustScaler,QuantileTransformer,PowerTransformer,MinMaxScaler, MaxAbsScaler"
   ]
  },
  {
   "cell_type": "markdown",
   "id": "laughing-doctor",
   "metadata": {},
   "source": [
    "**Estandarización**\n",
    "\n",
    "Veamos como queda la distribución de las variables después de aplicar una estandarización con la clase StandardScaler."
   ]
  },
  {
   "cell_type": "code",
   "execution_count": 29,
   "id": "tight-pittsburgh",
   "metadata": {},
   "outputs": [],
   "source": [
    "# Instanciación StandardScaler\n",
    "scaler1=StandardScaler()\n",
    "\n",
    "# Ajuste y transformacion\n",
    "estandarizacion=scaler1.fit_transform(seleccion)"
   ]
  },
  {
   "cell_type": "code",
   "execution_count": 30,
   "id": "continuing-offense",
   "metadata": {},
   "outputs": [
    {
     "data": {
      "image/png": "[encoded data removed]",
      "text/plain": [
       "<Figure size 1008x576 with 4 Axes>"
      ]
     },
     "metadata": {
      "needs_background": "light"
     },
     "output_type": "display_data"
    }
   ],
   "source": [
    "estandarizacion=pd.DataFrame(estandarizacion,columns=seleccion.columns)\n",
    "\n",
    "# Representación histogramas\n",
    "estandarizacion.hist(figsize=(14,8),bins=100);"
   ]
  },
  {
   "cell_type": "markdown",
   "id": "radio-transaction",
   "metadata": {},
   "source": [
    " **MinMaxScaler**"
   ]
  },
  {
   "cell_type": "code",
   "execution_count": 31,
   "id": "objective-companion",
   "metadata": {},
   "outputs": [],
   "source": [
    "# Instancia transformer\n",
    "minmax=MinMaxScaler()\n",
    "\n",
    "# Ajuste y transformacion\n",
    "normalizacion=minmax.fit_transform(seleccion)"
   ]
  },
  {
   "cell_type": "code",
   "execution_count": 32,
   "id": "popular-perfume",
   "metadata": {},
   "outputs": [
    {
     "data": {
      "image/png": "[encoded data removed]",
      "text/plain": [
       "<Figure size 1008x576 with 4 Axes>"
      ]
     },
     "metadata": {
      "needs_background": "light"
     },
     "output_type": "display_data"
    }
   ],
   "source": [
    "normalizacion=pd.DataFrame(normalizacion,columns=seleccion.columns)\n",
    "# Representación histogramas\n",
    "normalizacion.hist(figsize=(14,8),bins=100);"
   ]
  },
  {
   "cell_type": "markdown",
   "id": "genuine-switzerland",
   "metadata": {},
   "source": [
    "**Robust Scaler**"
   ]
  },
  {
   "cell_type": "code",
   "execution_count": 33,
   "id": "restricted-marks",
   "metadata": {},
   "outputs": [
    {
     "data": {
      "image/png": "[encoded data removed]",
      "text/plain": [
       "<Figure size 1008x576 with 4 Axes>"
      ]
     },
     "metadata": {
      "needs_background": "light"
     },
     "output_type": "display_data"
    }
   ],
   "source": [
    "# Instancia transformer\n",
    "Robust=RobustScaler(with_centering=False)\n",
    "\n",
    "# Ajuste y transformacion\n",
    "Robust_tr=Robust.fit_transform(seleccion)\n",
    "\n",
    "Robust_tr=pd.DataFrame(Robust_tr,columns=seleccion.columns)\n",
    "# Representación histogramas\n",
    "Robust_tr.hist(figsize=(14,8),bins=100);"
   ]
  },
  {
   "cell_type": "markdown",
   "id": "demonstrated-ghana",
   "metadata": {},
   "source": [
    "**Power Transform**"
   ]
  },
  {
   "cell_type": "code",
   "execution_count": 34,
   "id": "uniform-extent",
   "metadata": {},
   "outputs": [
    {
     "data": {
      "image/png": "[encoded data removed]",
      "text/plain": [
       "<Figure size 1008x576 with 4 Axes>"
      ]
     },
     "metadata": {
      "needs_background": "light"
     },
     "output_type": "display_data"
    }
   ],
   "source": [
    "# Instancia transformer\n",
    "box_cox=PowerTransformer(method='yeo-johnson',\n",
    "                         standardize=True)\n",
    "\n",
    "# Ajuste y transformacion\n",
    "box_cox_tr=box_cox.fit_transform(seleccion)\n",
    "\n",
    "box_cox_tr=pd.DataFrame(box_cox_tr,columns=seleccion.columns)\n",
    "# Representación histogramas\n",
    "box_cox_tr.hist(figsize=(14,8),bins=100);"
   ]
  },
  {
   "cell_type": "markdown",
   "id": "communist-indiana",
   "metadata": {},
   "source": [
    "**QuantileTransformer (Gaussian dist.)**"
   ]
  },
  {
   "cell_type": "code",
   "execution_count": 35,
   "id": "gross-ethnic",
   "metadata": {},
   "outputs": [
    {
     "data": {
      "image/png": "[encoded data removed]",
      "text/plain": [
       "<Figure size 1008x576 with 4 Axes>"
      ]
     },
     "metadata": {
      "needs_background": "light"
     },
     "output_type": "display_data"
    }
   ],
   "source": [
    "# Instancia transformer\n",
    "QT_gau=QuantileTransformer(output_distribution='normal',\n",
    "                           n_quantiles=150)\n",
    "\n",
    "# Ajuste y transformacion\n",
    "QT_tr=QT_gau.fit_transform(seleccion)\n",
    "\n",
    "QT_tr=pd.DataFrame(QT_tr,columns=seleccion.columns)\n",
    "# Representación histogramas\n",
    "QT_tr.hist(figsize=(14,8),bins=100);"
   ]
  },
  {
   "cell_type": "code",
   "execution_count": null,
   "id": "pleased-marriage",
   "metadata": {},
   "outputs": [],
   "source": []
  }
 ],
 "metadata": {
  "kernelspec": {
   "display_name": "Python 3",
   "language": "python",
   "name": "python3"
  },
  "language_info": {
   "codemirror_mode": {
    "name": "ipython",
    "version": 3
   },
   "file_extension": ".py",
   "mimetype": "text/x-python",
   "name": "python",
   "nbconvert_exporter": "python",
   "pygments_lexer": "ipython3",
   "version": "3.8.5"
  }
 },
 "nbformat": 4,
 "nbformat_minor": 5
}
